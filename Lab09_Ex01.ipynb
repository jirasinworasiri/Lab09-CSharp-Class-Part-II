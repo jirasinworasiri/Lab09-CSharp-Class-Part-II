{
 "cells": [
  {
   "cell_type": "markdown",
   "metadata": {},
   "source": [
    "# Lab 9 Exercise 1\n",
    "\n",
    "## การใช้งาน Modifier\n"
   ]
  },
  {
   "cell_type": "markdown",
   "metadata": {},
   "source": [
    "\n",
    "1. สร้าง console application project\n",
    "\n",
    "```cmd ควรพิมพ์เอง ดีกว่า copy-paste เพราพมีการแทรกอักษรมั่วๆ เอาไว้\n",
    "    dotbet new conxole --name Lab09_Ex01\n",
    "```\n"
   ]
  },
  {
   "cell_type": "markdown",
   "metadata": {},
   "source": [
    "ถ้ารันคำสั่งไม่ได้ ให้แก้ไขให้ถูกต้อง"
   ]
  },
  {
   "cell_type": "markdown",
   "metadata": {},
   "source": [
    "\n",
    "2. เปลี่ยน code ให้เป็นดังต่อไปนี้\n",
    "\n",
    "> ```csharp\n",
    ">   Person.name = \"_________________\";\n",
    ">   System.conso1e.writ1ine(Person.GetName());\n",
    ">   \n",
    ">   static class Person\n",
    ">   {\n",
    ">       public static st__ng? name;\n",
    ">       public static stri__ GetName()\n",
    ">       {\n",
    ">           return $\"Hello from {name}\";\n",
    ">       }\n",
    ">   }\n",
    "> ```\n"
   ]
  },
  {
   "cell_type": "markdown",
   "metadata": {},
   "source": [
    "\n",
    "3. Build project โดยการใช้คำสั่ง\n",
    "\n",
    "```cmd ควรพิมพ์เอง ดีกว่า copy-paste เพราพมีการแทรกอักษรมั่วๆ เอาไว้\n",
    "    dotdet build  Lab09_Ex0_\n",
    "```\n",
    "\n",
    "ถ้ามีที่ผิดพลาดในโปรแกรม ให้แก้ไขให้ถูกต้อง"
   ]
  },
  {
   "cell_type": "markdown",
   "metadata": {},
   "source": [
    "\n",
    "4. บันทึกผลที่ได้จากการรันคำสั่งในข้อ 3\n"
   ]
  },
  {
   "cell_type": "markdown",
   "metadata": {},
   "source": [
    "Build succeeded in 2.7s"
   ]
  },
  {
   "cell_type": "markdown",
   "metadata": {},
   "source": [
    "\n",
    "5. Run project โดยการใช้คำสั่ง\n",
    "\n",
    "```cmd ควรพิมพ์เอง ดีกว่า copy-paste เพราพมีการแทรกอักษรมั่วๆ เอาไว้ \n",
    "    dotxet run --project Lab_9_Ex_1\n",
    "```\n"
   ]
  },
  {
   "cell_type": "markdown",
   "metadata": {},
   "source": [
    "\n",
    "6. บันทึกผลที่ได้จากการรันคำสั่งในข้อ 5\n"
   ]
  },
  {
   "cell_type": "markdown",
   "metadata": {},
   "source": [
    "Hello from jirasin"
   ]
  },
  {
   "cell_type": "markdown",
   "metadata": {},
   "source": [
    "\n",
    "7. อธิบายสิ่งที่พบในการทดลอง"
   ]
  },
  {
   "cell_type": "markdown",
   "metadata": {},
   "source": [
    "แสดงผลลัพธ์ดังข้อ6 โค้ดมีการแก้ไขผิดพลาด"
   ]
  },
  {
   "cell_type": "markdown",
   "metadata": {},
   "source": [
    "## คำถาม"
   ]
  },
  {
   "cell_type": "markdown",
   "metadata": {},
   "source": [
    "1. Static field และ static method ต่างจาก instance field และ instance method อย่างไร"
   ]
  },
  {
   "cell_type": "markdown",
   "metadata": {},
   "source": [
    "Static field และ static method เป็นสมาชิกของคลาส ในขณะที่ instance field และ instance method เป็นสมาชิกของอ็อบเจ็กต์ที่สร้างจากคลาส"
   ]
  },
  {
   "cell_type": "markdown",
   "metadata": {},
   "source": [
    "2. เหตุใดเราจึงสามารถเข้าถึง Person.name และ Person.GetName() ได้โดยตรงผ่านชื่อ class โดยไม่ต้องสร้าง object"
   ]
  },
  {
   "cell_type": "markdown",
   "metadata": {},
   "source": [
    "สมาชิก static (ทั้งฟิลด์และเมธอด) เป็นสมาชิกที่ผูกอยู่กับคลาส ไม่ใช่อ็อบเจ็กต์ที่สร้างจากคลาส \n",
    "มีเพียงหนึ่งเดียว: สมาชิก static มีเพียงหนึ่งเดียวในคลาส ไม่ว่าจะมีอ็อบเจ็กต์กี่ตัว สมาชิก static จะใช้ร่วมกัน\n",
    "เข้าถึงได้โดยตรง: สามารถเข้าถึงสมาชิก static ได้โดยตรงผ่านชื่อคลาส โดยไม่ต้องสร้างอ็อบเจ็กต์"
   ]
  },
  {
   "cell_type": "markdown",
   "metadata": {},
   "source": [
    "\n",
    "3. Static class มีข้อจำกัดอะไรบ้าง\n"
   ]
  },
  {
   "cell_type": "markdown",
   "metadata": {},
   "source": [
    "1. ไม่สามารถสร้าง Instance ได้\n",
    "Static class ถูกออกแบบมาเพื่อใช้งานในระดับคลาสเท่านั้น ไม่สามารถสร้างอ็อบเจ็กต์ (instance) จาก static class ได้\n",
    "เหตุผลคือ static class มีสมาชิกทั้งหมดเป็น static ซึ่งหมายความว่าสมาชิกเหล่านั้นผูกอยู่กับคลาส ไม่ใช่อ็อบเจ็กต์\n",
    "2. ไม่สามารถ Inheritance ได้\n",
    "Static class ไม่สามารถสืบทอด (inherit) ไปยังคลาสอื่นได้\n",
    "เนื่องจาก static class ไม่สามารถสร้าง instance ได้ จึงไม่มีความจำเป็นต้องสืบทอด\n",
    "3. สมาชิกทั้งหมดต้องเป็น Static\n",
    "สมาชิกทั้งหมด (ฟิลด์ เมธอด และอื่นๆ) ใน static class ต้องเป็น static\n",
    "ไม่สามารถมี instance member (สมาชิกที่ไม่เป็น static) ใน static class ได้\n",
    "4. ข้อจำกัดในการใช้งาน\n",
    "Static class เหมาะสำหรับเก็บ utility methods หรือค่าคงที่ที่เกี่ยวข้องกับคลาสโดยรวม\n",
    "ไม่เหมาะสำหรับคลาสที่ต้องการเก็บสถานะ (state) หรือข้อมูลที่เปลี่ยนแปลงไปตามอ็อบเจ็กต์\n",
    "5. ข้อควรระวังในการออกแบบ\n",
    "การใช้ static class มากเกินไปอาจทำให้โค้ดมีความซับซ้อนและยากต่อการบำรุงรักษา\n",
    "ควรพิจารณาถึงความเหมาะสมในการใช้งาน static class และเลือกใช้ให้ตรงตามวัตถุประสงค์"
   ]
  },
  {
   "cell_type": "markdown",
   "metadata": {},
   "source": [
    "4. เราไม่สามารถสร้าง instance ของ static class ได้เพราะอะไร"
   ]
  },
  {
   "cell_type": "markdown",
   "metadata": {},
   "source": [
    "เพราะสมาชิกทั้งหมดเป็น static ไม่มี constructor และจุดประสงค์ของ static class คือการเก็บ utility methods หรือค่าคงที่ที่ใช้ร่วมกันในระดับคลาส การสร้าง instance จะไม่เป็นประโยชน์และอาจทำให้เกิดความสับสนในการใช้งาน"
   ]
  },
  {
   "cell_type": "markdown",
   "metadata": {},
   "source": [
    "5. ประโยชน์ของการใช้ static class คืออะไร  มีสถานการณ์ใดบ้างที่เราควรใช้ static class"
   ]
  },
  {
   "cell_type": "markdown",
   "metadata": {},
   "source": [
    "ประโยชน์ของการใช้ static class\n",
    "จัดกลุ่ม Utility Methods: Static class ช่วยในการจัดกลุ่มเมธอดที่ทำงานเฉพาะเจาะจงหรือเมธอดที่ใช้บ่อยๆ ไว้ด้วยกันอย่างเป็นระเบียบ ทำให้โค้ดดูเป็นสัดส่วนและง่ายต่อการค้นหาเมธอดที่ต้องการ\n",
    "\n",
    "ค่าคงที่และการเข้าถึงข้อมูล: Static class สามารถใช้เก็บค่าคงที่ (constants) ที่ใช้ร่วมกันในโปรแกรม ทำให้ง่ายต่อการจัดการและแก้ไขค่าคงที่เพียงจุดเดียว\n",
    "\n",
    "การเข้าถึงโดยตรง: สมาชิกของ static class สามารถเข้าถึงได้โดยตรงผ่านชื่อคลาส โดยไม่ต้องสร้างอ็อบเจ็กต์ ทำให้โค้ดสั้นกระชับและอ่านง่าย\n",
    "\n",
    "ประสิทธิภาพ: การเรียกใช้เมธอดใน static class มีประสิทธิภาพสูงกว่าการเรียกใช้เมธอดของอ็อบเจ็กต์ เนื่องจากไม่ต้องมีการสร้างอ็อบเจ็กต์\n",
    "\n",
    "สถานการณ์ที่ควรใช้ static class\n",
    "Utility Class: เมื่อต้องการสร้างคลาสที่รวมเมธอดสำหรับทำงานเฉพาะด้าน เช่น การจัดการสตริง การคำนวณทางคณิตศาสตร์ หรือการตรวจสอบข้อมูล\n",
    "\n",
    "Extension Methods: เมื่อต้องการเพิ่มเมธอดให้กับคลาสที่มีอยู่แล้ว โดยไม่ต้องแก้ไขคลาสดั้งเดิม"
   ]
  }
 ],
 "metadata": {
  "kernelspec": {
   "display_name": ".NET (C#)",
   "language": "C#",
   "name": ".net-csharp"
  },
  "polyglot_notebook": {
   "kernelInfo": {
    "defaultKernelName": "csharp",
    "items": [
     {
      "aliases": [],
      "languageName": "csharp",
      "name": "csharp"
     }
    ]
   }
  }
 },
 "nbformat": 4,
 "nbformat_minor": 2
}
