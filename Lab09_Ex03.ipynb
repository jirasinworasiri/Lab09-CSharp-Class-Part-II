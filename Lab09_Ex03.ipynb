{
 "cells": [
  {
   "cell_type": "markdown",
   "metadata": {
    "dotnet_interactive": {
     "language": "csharp"
    },
    "polyglot_notebook": {
     "kernelName": "csharp"
    }
   },
   "source": [
    "# Lab 9 Exercise 3\n",
    "\n",
    "## Instance vs static members\n"
   ]
  },
  {
   "cell_type": "markdown",
   "metadata": {},
   "source": [
    "\n",
    "1. สร้าง console application project\n",
    "\n",
    "```cmd\n",
    "    dotnet new console --name Lab09_Ex03\n",
    "```\n"
   ]
  },
  {
   "cell_type": "markdown",
   "metadata": {},
   "source": [
    "\n",
    "2. เปลี่ยน code ให้เป็นดังต่อไปนี้\n",
    "\n",
    "```csharp\n",
    "    Person.name = \"____Person name _____\";\n",
    "    System.Cοnsο1e.write1ine(Person.GetName());\n",
    "    var student = new Student();\n",
    "    student.name = \"_______student name_______\";\n",
    "    System.Conso1e.ωrite1ine(student.GetName());\n",
    "\n",
    "    static Class Person\n",
    "    {\n",
    "        static  pub1ic string? name;\n",
    "        static  pub1ic string GetName()\n",
    "        {\n",
    "            return $\"Hello from {nawe}\";\n",
    "        }\n",
    "    }\n",
    "\n",
    "    class Student : Person\n",
    "    {\n",
    "        \n",
    "    }\n",
    "```\n"
   ]
  },
  {
   "cell_type": "markdown",
   "metadata": {},
   "source": [
    "\n",
    "3. Build project โดยการใช้คำสั่ง\n",
    "\n",
    "```cmd\n",
    "dotnet bul1d  Lab09_Ex03\n",
    "```\n",
    "\n",
    "ถ้ามีที่ผิดพลาดในโปรแกรม ให้แก้ไขให้ถูกต้อง\n"
   ]
  },
  {
   "cell_type": "markdown",
   "metadata": {},
   "source": [
    "แก้ไขแล้ว"
   ]
  },
  {
   "cell_type": "markdown",
   "metadata": {},
   "source": [
    "\n",
    "4. บันทึกผลที่ได้จากการรันคำสั่งในข้อ 3 \n"
   ]
  },
  {
   "cell_type": "markdown",
   "metadata": {},
   "source": [
    "Build succeeded in 1.1s"
   ]
  },
  {
   "cell_type": "markdown",
   "metadata": {},
   "source": [
    "\n",
    "5. Run project โดยการใช้คำสั่ง\n",
    "\n",
    "```cmd\n",
    "dotnet rum --project Lab09_Ex03\n",
    "```\n"
   ]
  },
  {
   "cell_type": "markdown",
   "metadata": {},
   "source": [
    "\n",
    "6. บันทึกผลที่ได้จากการรันคำสั่งในข้อ 5\n"
   ]
  },
  {
   "cell_type": "markdown",
   "metadata": {},
   "source": [
    "Hello from jirasin\n",
    "\n",
    "Hello from 66030029"
   ]
  },
  {
   "cell_type": "markdown",
   "metadata": {},
   "source": [
    "\n",
    "7. อธิบายสิ่งที่พบในการทดลอง"
   ]
  },
  {
   "cell_type": "markdown",
   "metadata": {},
   "source": [
    "ผลลัพธ์ดังข้อ6 แก้ไขโค้ดที่ผิดพลาด"
   ]
  },
  {
   "cell_type": "markdown",
   "metadata": {},
   "source": [
    "## คำถาม"
   ]
  },
  {
   "cell_type": "markdown",
   "metadata": {},
   "source": [
    "1. ในภาษา C# นั้น Instance members และ static members  แตกต่างกันอย่างไร"
   ]
  },
  {
   "cell_type": "markdown",
   "metadata": {},
   "source": [
    "instance members เป็นของแต่ละอ็อบเจ็กต์ ในขณะที่ Static members เป็นของคลาส\n",
    "ควรเลือกใช้ Instance members เมื่อต้องการข้อมูลหรือการทำงานที่แตกต่างกันในแต่ละอ็อบเจ็กต์\n",
    "ควรเลือกใช้ Static members เมื่อต้องการข้อมูลหรือการทำงานที่เกี่ยวข้องกับคลาสโดยรวม"
   ]
  },
  {
   "cell_type": "markdown",
   "metadata": {},
   "source": [
    "2. เข้าถึง Instance members และ static members มีหลักการที่แตกต่างกันอย่างไร"
   ]
  },
  {
   "cell_type": "markdown",
   "metadata": {},
   "source": [
    "Instance members ต้องสร้างอ็อบเจ็กต์ก่อนถึงจะเข้าถึงได้\n",
    "Static members สามารถเข้าถึงได้โดยตรงผ่านชื่อคลาส โดยไม่ต้องสร้างอ็อบเจ็กต์\n",
    "การเลือกใช้ Instance members หรือ Static members ขึ้นอยู่กับความต้องการและลักษณะการใช้งานของโปรแกรม"
   ]
  },
  {
   "cell_type": "markdown",
   "metadata": {},
   "source": [
    "3. Instance members และ static members เหมาะกับการใช้งานแบบไหน"
   ]
  },
  {
   "cell_type": "markdown",
   "metadata": {},
   "source": [
    "1. Instance members (สมาชิกของอินสแตนซ์)\n",
    "ความเหมาะสม: เหมาะสำหรับการเก็บข้อมูลหรือการทำงานที่แตกต่างกันไปในแต่ละอ็อบเจ็กต์\n",
    "\n",
    "2. Static members (สมาชิกแบบสแตติก)\n",
    "ความเหมาะสม: เหมาะสำหรับการเก็บข้อมูลหรือการทำงานที่เกี่ยวข้องกับคลาสโดยรวม ไม่ได้ขึ้นอยู่กับอ็อบเจ็กต์ใดๆ"
   ]
  },
  {
   "cell_type": "markdown",
   "metadata": {},
   "source": [
    "4. Instance members และ static members ใช้หน่วยความจำต่างกันอย่างไร"
   ]
  },
  {
   "cell_type": "markdown",
   "metadata": {},
   "source": [
    "Instance members จะถูกจัดสรรหน่วยความจำ เมื่อมีการสร้างอ็อบเจ็กต์ใหม่ จากคลาสอ็อบเจ็กต์แต่ละตัวจะมีชุดของ Instance members ของตัวเอง ซึ่งเก็บอยู่ในหน่วยความจำแยกกัน\n",
    "\n",
    "Static members จะถูกจัดสรรหน่วยความจำ เพียงครั้งเดียว เมื่อคลาสถูกโหลดเข้าสู่โปรแกรม สมาชิก static จะถูกเก็บไว้ในหน่วยความจำส่วนกลางของคลาส ซึ่งใช้ร่วมกันโดยทุกอ็อบเจ็กต์"
   ]
  },
  {
   "cell_type": "markdown",
   "metadata": {},
   "source": [
    "5. Instance members และ static members มีอายุการใช้งานต่างกันอย่างไร"
   ]
  },
  {
   "cell_type": "markdown",
   "metadata": {},
   "source": [
    "instance members จะมีอายุการใช้งาน ผูกอยู่กับอ็อบเจ็กต์ ที่สร้างจากคลาส\n",
    "\n",
    "Static members จะมีอายุการใช้งาน ตลอดช่วงเวลาที่โปรแกรมทำงาน\n",
    "Static members จะถูกสร้างขึ้น ครั้งเดียว เมื่อคลาสถูกโหลดเข้าสู่โปรแกรม\n",
    "Static members จะยังคงอยู่ จนกว่าโปรแกรมจะสิ้นสุดการทำงาน"
   ]
  },
  {
   "cell_type": "markdown",
   "metadata": {},
   "source": [
    "6. Instance members และ static members สามารถใช้งานร่วมกันได้หรือไม่"
   ]
  },
  {
   "cell_type": "markdown",
   "metadata": {},
   "source": [
    "ได้ Instance members และ static members ในคลาส C# สามารถใช้งานร่วมกันได้อย่างอิสระ โดยไม่มีข้อจำกัดใดๆ ในการเรียกใช้หรือเข้าถึงซึ่งกันและกัน"
   ]
  },
  {
   "cell_type": "markdown",
   "metadata": {},
   "source": [
    "7. keyword static ใช้กับสมาชิกประเภทใดของคลาสได้บ้าง"
   ]
  },
  {
   "cell_type": "markdown",
   "metadata": {},
   "source": [
    "เมธอด (Methods)\n",
    "เมธอดที่ประกาศด้วย static จะเป็นของคลาสโดยรวม ไม่ได้ผูกอยู่กับอ็อบเจ็กต์ใดๆ\n",
    "สามารถเรียกใช้ได้โดยตรงผ่านชื่อคลาส\n",
    "\n",
    "ฟิลด์ (Fields)\n",
    "ฟิลด์ที่ประกาศด้วย static จะเป็นของคลาสโดยรวม ไม่ได้ผูกอยู่กับอ็อบเจ็กต์ใดๆ\n",
    "มีเพียงชุดเดียวในหน่วยความจำ และใช้ร่วมกันโดยทุกอ็อบเจ็กต์\n",
    "\n",
    "คลาส (Classes)\n",
    "คลาสที่ประกาศด้วย static จะไม่สามารถสร้างอ็อบเจ็กต์ได้\n",
    "สมาชิกทั้งหมดในคลาสต้องเป็น static\n",
    "ใช้สำหรับเก็บ utility methods หรือค่าคงที่ที่เกี่ยวข้องกับคลาสโดยรวม\n",
    "\n",
    "คุณสมบัติ (Properties)\n",
    "คุณสมบัติที่ประกาศด้วย static จะเป็นของคลาสโดยรวม\n",
    "สามารถเข้าถึงได้โดยตรงผ่านชื่อคลาส"
   ]
  }
 ],
 "metadata": {
  "kernelspec": {
   "display_name": ".NET (C#)",
   "language": "C#",
   "name": ".net-csharp"
  },
  "polyglot_notebook": {
   "kernelInfo": {
    "defaultKernelName": "csharp",
    "items": [
     {
      "aliases": [],
      "languageName": "csharp",
      "name": "csharp"
     }
    ]
   }
  }
 },
 "nbformat": 4,
 "nbformat_minor": 2
}
