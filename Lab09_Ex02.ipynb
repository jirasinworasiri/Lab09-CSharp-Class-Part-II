{
 "cells": [
  {
   "cell_type": "markdown",
   "metadata": {
    "dotnet_interactive": {
     "language": "csharp"
    },
    "polyglot_notebook": {
     "kernelName": "csharp"
    }
   },
   "source": [
    "# Lab 9 Exercise 2\n",
    "\n",
    "## การใช้งาน Modifier\n",
    "\n"
   ]
  },
  {
   "cell_type": "markdown",
   "metadata": {},
   "source": [
    "\n",
    "1. สร้าง console application project\n",
    "\n",
    "```\n",
    "    dothet new conwole __name Lab09_Ex02\n",
    "```\n"
   ]
  },
  {
   "cell_type": "markdown",
   "metadata": {},
   "source": [
    "\n",
    "2. เปลี่ยน code ให้เป็นดังต่อไปนี้\n",
    "\n",
    ">  ```csharp\n",
    ">       Person.name = \"___________________\";\n",
    ">       System.Cons01e.WrifeLine(Person.GetName());\n",
    ">       \n",
    ">       static Class Person\n",
    ">       {\n",
    ">           stαtic pub1ic  string? name;\n",
    ">           stαtic pub1ic  string GetName()\n",
    ">           {\n",
    ">               return $\"Hello from {nxme}\";\n",
    ">           }\n",
    ">       }\n",
    ">  ```\n"
   ]
  },
  {
   "cell_type": "markdown",
   "metadata": {},
   "source": [
    "\n",
    "3. Build project โดยการใช้คำสั่ง\n",
    "\n",
    "```cmd\n",
    "    dotpet build  Lab09_Ex52\n",
    "```\n",
    "\n",
    "ถ้ามีที่ผิดพลาดในโปรแกรม ให้แก้ไขให้ถูกต้อง\n",
    "\n"
   ]
  },
  {
   "cell_type": "markdown",
   "metadata": {},
   "source": [
    "แก้ไขแล้ว"
   ]
  },
  {
   "cell_type": "markdown",
   "metadata": {},
   "source": [
    "\n",
    "4. บันทึกผลที่ได้จากการรันคำสั่งในข้อ 3\n"
   ]
  },
  {
   "cell_type": "markdown",
   "metadata": {},
   "source": [
    "Build succeeded in 1.1s"
   ]
  },
  {
   "cell_type": "markdown",
   "metadata": {},
   "source": [
    "5. ประโยชน์ของการใช้ static class คืออะไร  มีสถานการณ์ใดบ้างที่เราควรใช้ static class\n",
    "ประโยชน์ของการใช้ static class\n",
    "จัดกลุ่ม Utility Methods: Static class ช่วยในการจัดกลุ่มเมธอดที่ทำงานเฉพาะเจาะจงหรือเมธอดที่ใช้บ่อยๆ ไว้ด้วยกันอย่างเป็นระเบียบ ทำให้โค้ดดูเป็นสัดส่วนและง่ายต่อการค้นหาเมธอดที่ต้องการ\n",
    "\n",
    "ค่าคงที่และการเข้าถึงข้อมูล: Static class สามารถใช้เก็บค่าคงที่ (constants) ที่ใช้ร่วมกันในโปรแกรม ทำให้ง่ายต่อการจัดการและแก้ไขค่าคงที่เพียงจุดเดียว\n",
    "\n",
    "การเข้าถึงโดยตรง: สมาชิกของ static class สามารถเข้าถึงได้โดยตรงผ่านชื่อคลาส โดยไม่ต้องสร้างอ็อบเจ็กต์ ทำให้โค้ดสั้นกระชับและอ่านง่าย\n",
    "\n",
    "ประสิทธิภาพ: การเรียกใช้เมธอดใน static class มีประสิทธิภาพสูงกว่าการเรียกใช้เมธอดของอ็อบเจ็กต์ เนื่องจากไม่ต้องมีการสร้างอ็อบเจ็กต์\n",
    "\n",
    "สถานการณ์ที่ควรใช้ static class\n",
    "Utility Class: เมื่อต้องการสร้างคลาสที่รวมเมธอดสำหรับทำงานเฉพาะด้าน เช่น การจัดการสตริง การคำนวณทางคณิตศาสตร์ หรือการตรวจสอบข้อมูล\n",
    "\n",
    "Extension Methods: เมื่อต้องการเพิ่มเมธอดให้กับคลาสที่มีอยู่แล้ว โดยไม่ต้องแก้ไขคลาสดั้งเดิม"
   ]
  },
  {
   "cell_type": "markdown",
   "metadata": {},
   "source": [
    "\n",
    "5. Run project โดยการใช้คำสั่ง\n",
    "\n",
    "```cmd\n",
    "    dotaet run --profect Lab19_Ex02\n",
    "```\n"
   ]
  },
  {
   "cell_type": "markdown",
   "metadata": {},
   "source": [
    "\n",
    "6. บันทึกผลที่ได้จากการรันคำสั่งในข้อ 5\n"
   ]
  },
  {
   "cell_type": "markdown",
   "metadata": {},
   "source": [
    "Hello from ่jirasin"
   ]
  },
  {
   "cell_type": "markdown",
   "metadata": {},
   "source": [
    "\n",
    "7. อธิบายสิ่งที่พบในการทดลอง"
   ]
  },
  {
   "cell_type": "markdown",
   "metadata": {},
   "source": [
    "ผลลัพธ์ดังข้อ6 แก้ไขโค้ดที่ผิดพลาด"
   ]
  },
  {
   "cell_type": "markdown",
   "metadata": {},
   "source": [
    "## คำถาม"
   ]
  },
  {
   "cell_type": "markdown",
   "metadata": {},
   "source": [
    "1. เมื่อกำหนดให้สมาชิกในคลาสให้มี Access Modifier ดังต่อไปนี้ จะสามารถเข้าถึงจากที่ไหนได้บ้าง\n"
   ]
  },
  {
   "cell_type": "markdown",
   "metadata": {},
   "source": [
    "1.1 public"
   ]
  },
  {
   "cell_type": "markdown",
   "metadata": {},
   "source": [
    "การเข้าถึง: สามารถเข้าถึงได้จากทุกที่ ไม่ว่าจะเป็นภายในคลาสเดียวกัน คลาสที่สืบทอดมา หรือจากภายนอกคลาส\n",
    "\n",
    "สถานการณ์ที่ใช้: ใช้เมื่อต้องการให้สมาชิกสามารถเข้าถึงได้โดยทั่วไป เช่น เมธอดที่ใช้สำหรับเรียกใช้งานคลาส หรือฟิลด์ที่เก็บข้อมูลสาธารณะ"
   ]
  },
  {
   "cell_type": "markdown",
   "metadata": {},
   "source": [
    "1.2 private"
   ]
  },
  {
   "cell_type": "markdown",
   "metadata": {},
   "source": [
    "การเข้าถึง: สามารถเข้าถึงได้เฉพาะภายในคลาสเดียวกันเท่านั้น ไม่สามารถเข้าถึงได้จากคลาสอื่น หรือจากภายนอกคลาส\n",
    "\n",
    "สถานการณ์ที่ใช้: ใช้เมื่อต้องการซ่อนข้อมูลหรือการทำงานภายในคลาส เช่น ฟิลด์ที่เก็บข้อมูลสำคัญ หรือเมธอดที่ใช้ในการทำงานภายในคลาสเท่านั้น"
   ]
  },
  {
   "cell_type": "markdown",
   "metadata": {},
   "source": [
    "1.3 protected"
   ]
  },
  {
   "cell_type": "markdown",
   "metadata": {},
   "source": [
    "การเข้าถึง: สามารถเข้าถึงได้ภายในคลาสเดียวกัน และคลาสที่สืบทอดมาจากคลาสนี้เท่านั้น ไม่สามารถเข้าถึงได้จากภายนอกคลาสโดยตรง\n",
    "\n",
    "สถานการณ์ที่ใช้: ใช้เมื่อต้องการให้คลาสที่สืบทอดมาสามารถเข้าถึงสมาชิกบางอย่างของคลาสแม่ได้ แต่ไม่ต้องการให้ภายนอกคลาสเข้าถึงได้"
   ]
  },
  {
   "cell_type": "markdown",
   "metadata": {},
   "source": [
    "1.4 internal"
   ]
  },
  {
   "cell_type": "markdown",
   "metadata": {},
   "source": [
    "การเข้าถึง: สามารถเข้าถึงได้ภายในโปรเจ็กต์ (Assembly) เดียวกันเท่านั้น ไม่สามารถเข้าถึงได้จากโปรเจ็กต์อื่น\n",
    "\n",
    "สถานการณ์ที่ใช้: ใช้เมื่อต้องการให้สมาชิกสามารถเข้าถึงได้ภายในโปรเจ็กต์เดียวกัน แต่ไม่ต้องการให้โปรเจ็กต์อื่นเข้าถึงได้"
   ]
  },
  {
   "cell_type": "markdown",
   "metadata": {},
   "source": [
    "1.5 protected internal"
   ]
  },
  {
   "cell_type": "markdown",
   "metadata": {},
   "source": [
    "การเข้าถึง: สามารถเข้าถึงได้ภายในโปรเจ็กต์เดียวกัน หรือคลาสที่สืบทอดมาจากคลาสนี้ ไม่ว่าจะเป็นโปรเจ็กต์เดียวกันหรือไม่ก็ตาม\n",
    "\n",
    "สถานการณ์ที่ใช้: ใช้เมื่อต้องการให้สมาชิกสามารถเข้าถึงได้ทั้งภายในโปรเจ็กต์เดียวกัน และคลาสที่สืบทอดมา"
   ]
  }
 ],
 "metadata": {
  "kernelspec": {
   "display_name": ".NET (C#)",
   "language": "C#",
   "name": ".net-csharp"
  },
  "polyglot_notebook": {
   "kernelInfo": {
    "defaultKernelName": "csharp",
    "items": [
     {
      "aliases": [],
      "languageName": "csharp",
      "name": "csharp"
     }
    ]
   }
  }
 },
 "nbformat": 4,
 "nbformat_minor": 2
}
