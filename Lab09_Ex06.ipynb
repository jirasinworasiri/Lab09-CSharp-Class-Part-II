{
 "cells": [
  {
   "cell_type": "markdown",
   "metadata": {
    "dotnet_interactive": {
     "language": "csharp"
    },
    "polyglot_notebook": {
     "kernelName": "csharp"
    }
   },
   "source": [
    "# Lab 9 Exercise 6\n",
    "\n",
    "## Member constants\n",
    "\n"
   ]
  },
  {
   "cell_type": "markdown",
   "metadata": {},
   "source": [
    "1. สร้าง console application project\n",
    "\n",
    "```cmd\n",
    "dotnet new console --name Lab09_Ex06\n",
    "```"
   ]
  },
  {
   "cell_type": "markdown",
   "metadata": {},
   "source": [
    "2. เปลี่ยน code ให้เป็นดังต่อไปนี้\n",
    "\n",
    ">  ```csharp\n",
    ">   Circle.PrintCircleArea(100);\n",
    ">   \n",
    ">   class Circle\n",
    ">   {\n",
    ">       const double PI = 3.14159;\n",
    ">       public statix void PrintCircleArea(double radius)\n",
    ">       {\n",
    ">           System.Conxole.Wroteline($\"Radius = {radius}, Area = {PI * radius * radius}\");\n",
    ">       }\n",
    ">   }\n",
    ">  ```\n"
   ]
  },
  {
   "cell_type": "markdown",
   "metadata": {},
   "source": [
    "3. Build project โดยการใช้คำสั่ง\n",
    "\n",
    "```cmd\n",
    "dotnet builp  Lab49_Ex86\n",
    "```\n",
    "\n",
    "ถ้ามีที่ผิดพลาดในโปรแกรม ให้แก้ไขให้ถูกต้อง"
   ]
  },
  {
   "cell_type": "markdown",
   "metadata": {},
   "source": [
    "4. บันทึกผลที่ได้จากการรันคำสั่งในข้อ 3 "
   ]
  },
  {
   "cell_type": "markdown",
   "metadata": {},
   "source": [
    "Build succeeded in 1.1s"
   ]
  },
  {
   "cell_type": "markdown",
   "metadata": {},
   "source": [
    "5. Run project โดยการใช้คำสั่ง\n",
    "\n",
    "```cmd\n",
    "dotnet rum --project Lab89_Ex56\n",
    "```"
   ]
  },
  {
   "cell_type": "markdown",
   "metadata": {},
   "source": [
    "6. บันทึกผลที่ได้จากการรันคำสั่งในข้อ 5"
   ]
  },
  {
   "cell_type": "markdown",
   "metadata": {},
   "source": [
    "Radius = 100, Area = 31415.899999999998"
   ]
  },
  {
   "cell_type": "markdown",
   "metadata": {},
   "source": [
    "7. อธิบายสิ่งที่พบในการทดลอง"
   ]
  },
  {
   "cell_type": "markdown",
   "metadata": {},
   "source": [
    "แก้ไขโค้ดที่ผิดพลาดให้ถูกต้อง"
   ]
  },
  {
   "cell_type": "markdown",
   "metadata": {},
   "source": [
    "## คำถาม"
   ]
  },
  {
   "cell_type": "markdown",
   "metadata": {},
   "source": [
    "1. Member constant คืออะไร และมีคุณสมบัติอย่างไร\n"
   ]
  },
  {
   "cell_type": "markdown",
   "metadata": {},
   "source": [
    "Member constant หรือค่าคงที่สมาชิก คือค่าคงที่ที่ประกาศไว้ภายในคลาส (Class) ในภาษา C# โดยมีคุณสมบัติดังนี้:\n",
    "\n",
    "1. ค่าคงที่\n",
    "Member constant จะเก็บค่าที่ไม่สามารถเปลี่ยนแปลงได้หลังจากที่ถูกกำหนดค่าเริ่มต้นแล้ว\n",
    "ค่าคงที่นี้จะคงที่อยู่ตลอดช่วงเวลาที่โปรแกรมทำงาน\n",
    "2. สมาชิกของคลาส\n",
    "Member constant เป็นสมาชิกของคลาส ซึ่งหมายความว่ามันผูกอยู่กับคลาส ไม่ได้ผูกอยู่กับอ็อบเจ็กต์ใดๆ ของคลาส\n",
    "สามารถเข้าถึงได้โดยตรงผ่านชื่อคลาส\n",
    "3. การประกาศ\n",
    "Member constant จะถูกประกาศด้วย keyword const ตามด้วยชนิดข้อมูลและชื่อของค่าคงที่\n",
    "ต้องกำหนดค่าเริ่มต้นให้กับค่าคงที่ในขณะที่ประกาศ\n",
    "4. การเข้าถึง\n",
    "Member constant สามารถเข้าถึงได้จากภายนอกคลาส โดยใช้ชื่อคลาสตามด้วยชื่อค่าคงที่\n",
    "หากต้องการจำกัดการเข้าถึง สามารถใช้ access modifiers เช่น public, private, protected หรือ internal"
   ]
  },
  {
   "cell_type": "markdown",
   "metadata": {},
   "source": [
    "2. เราสามารถประกาศ member constant ในภาษา C# ได้อย่างไร\n"
   ]
  },
  {
   "cell_type": "markdown",
   "metadata": {},
   "source": [
    "การประกาศ member constant ในภาษา C# ทำได้โดยใช้ keyword const ตามด้วยชนิดข้อมูลและชื่อของค่าคงที่ โดยต้องกำหนดค่าเริ่มต้นให้กับค่าคงที่ในขณะที่ประกาศ"
   ]
  },
  {
   "cell_type": "markdown",
   "metadata": {},
   "source": [
    "3. member constant สามารถสร้างเป็นชนิดข้อมูลใดได้บ้าง\n"
   ]
  },
  {
   "cell_type": "markdown",
   "metadata": {},
   "source": [
    "1. ชนิดข้อมูลพื้นฐาน\n",
    "จำนวนเต็ม: int, long, short, byte, uint, ulong, ushort\n",
    "\n",
    "จำนวนจริง: float, double, decimal\n",
    "\n",
    "ตัวอักษร: char\n",
    "\n",
    "ค่าความจริง: bool\n",
    "\n",
    "สตริง: string"
   ]
  },
  {
   "cell_type": "markdown",
   "metadata": {},
   "source": [
    "4. เราสามารถเข้าถึง member constant ได้อย่างไร\n"
   ]
  },
  {
   "cell_type": "markdown",
   "metadata": {},
   "source": [
    "Member constant ในภาษา C# สามารถเข้าถึงได้โดยตรงผ่านชื่อคลาส โดยใช้เครื่องหมายจุด (.) คั่นระหว่างชื่อคลาสและชื่อค่าคงที่"
   ]
  },
  {
   "cell_type": "markdown",
   "metadata": {},
   "source": [
    "5. member constant เป็น static โดยปริยายหรือไม่\n"
   ]
  },
  {
   "cell_type": "markdown",
   "metadata": {},
   "source": [
    "ไม่ได้เป็น static โดยปริยาย"
   ]
  },
  {
   "cell_type": "markdown",
   "metadata": {},
   "source": [
    "6. มีข้อจำกัดอะไรบ้างในการใช้ member constant \n"
   ]
  },
  {
   "cell_type": "markdown",
   "metadata": {},
   "source": [
    "1. ค่าคงที่\n",
    "member constant ต้องกำหนดค่าเริ่มต้นในขณะที่ประกาศ และไม่สามารถเปลี่ยนแปลงค่าได้ในภายหลัง ทำให้ไม่สามารถเก็บข้อมูลที่เปลี่ยนแปลงได้\n",
    "2. ชนิดข้อมูล\n",
    "member constant สามารถเป็นได้เฉพาะชนิดข้อมูลพื้นฐาน (เช่น int, double, string, bool) และ enum เท่านั้น ไม่สามารถเป็นชนิดข้อมูลที่ซับซ้อนกว่านั้นได้ (เช่น class, struct, array)\n",
    "3. ขอบเขตการเข้าถึง\n",
    "member constant ที่เป็น private จะไม่สามารถเข้าถึงได้จากภายนอกคลาส ทำให้มีข้อจำกัดในการใช้งานในบางสถานการณ์\n",
    "4. ข้อจำกัดในการสืบทอด\n",
    "member constant ไม่สามารถถูก override ในคลาสที่สืบทอดมาได้ ทำให้มีข้อจำกัดในการปรับเปลี่ยนหรือแก้ไขค่าคงที่ในคลาสลูก\n",
    "5. การพึ่งพาซึ่งกันและกัน\n",
    "หากมีการเปลี่ยนแปลงค่าของ member constant ในคลาสหนึ่ง อาจส่งผลกระทบต่อคลาสอื่นๆ ที่ใช้ค่าคงที่นั้น ทำให้เกิดการพึ่งพาซึ่งกันและกันระหว่างคลาสต่างๆ\n",
    "6. การบำรุงรักษา\n",
    "หากมีการเปลี่ยนแปลงค่าของ member constant จำเป็นต้องแก้ไขโค้ดในทุกๆ ส่วนที่ใช้ค่าคงที่นั้น ซึ่งอาจทำให้เกิดความยุ่งยากในการบำรุงรักษาโค้ด\n",
    "7. ข้อจำกัดในการใช้งาน\n",
    "member constant เหมาะสำหรับเก็บค่าคงที่ที่ใช้ร่วมกันในคลาสเท่านั้น ไม่เหมาะสำหรับการเก็บข้อมูลที่เปลี่ยนแปลงได้ หรือข้อมูลที่ต้องการเข้าถึงจากภายนอกคลาสอย่างอิสระ"
   ]
  },
  {
   "cell_type": "markdown",
   "metadata": {},
   "source": [
    "7. member constant เหมาะกับการใช้งานแบบไหน\n"
   ]
  },
  {
   "cell_type": "markdown",
   "metadata": {},
   "source": [
    "เหมาะสำหรับการใช้งานในสถานการณ์ที่ต้องการค่าคงที่ที่เกี่ยวข้องกับคลาสโดยรวม และไม่ต้องการให้ค่านี้เปลี่ยนแปลงไปตลอดการทำงานของโปรแกรม"
   ]
  },
  {
   "cell_type": "markdown",
   "metadata": {},
   "source": [
    "8. จงตัวอย่าง Member Constant ในไลบรารี่ของภาษา C#"
   ]
  },
  {
   "cell_type": "markdown",
   "metadata": {},
   "source": [
    "string.Empty\n",
    "สตริงว่างเปล่า (\"\")\n",
    "ใช้ในการตรวจสอบว่าสตริงว่างเปล่าหรือไม่ หรือกำหนดค่าเริ่มต้นให้กับสตริง"
   ]
  }
 ],
 "metadata": {
  "kernelspec": {
   "display_name": ".NET (C#)",
   "language": "C#",
   "name": ".net-csharp"
  },
  "polyglot_notebook": {
   "kernelInfo": {
    "defaultKernelName": "csharp",
    "items": [
     {
      "aliases": [],
      "languageName": "csharp",
      "name": "csharp"
     }
    ]
   }
  }
 },
 "nbformat": 4,
 "nbformat_minor": 2
}
