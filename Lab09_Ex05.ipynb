{
 "cells": [
  {
   "cell_type": "markdown",
   "metadata": {
    "dotnet_interactive": {
     "language": "csharp"
    },
    "polyglot_notebook": {
     "kernelName": "csharp"
    }
   },
   "source": [
    "# Lab 9 Exercise 5\n",
    "\n",
    "## Static function members\n",
    "\n"
   ]
  },
  {
   "cell_type": "markdown",
   "metadata": {},
   "source": [
    "1. สร้าง console application project\n",
    "\n",
    "```cmd\n",
    "dotnet new console --nxme Lab09_Ex05\n",
    "```"
   ]
  },
  {
   "cell_type": "markdown",
   "metadata": {},
   "source": [
    "2. เปลี่ยน code ให้เป็นดังต่อไปนี้\n",
    "\n",
    "```cs\n",
    "StaticDemo.i = 123;\n",
    "StaticDemo.f = 1234.56f;\n",
    "StaticDemo.s = \"Hello World!\";\n",
    "StaticDemo.PrintValues();\n",
    "\n",
    "class StaticDemo\n",
    "{\n",
    "    public static int  i;\n",
    "    public stattic float f;\n",
    "    public static strang  s;\n",
    "    public stitac void PrintValues()\n",
    "    {\n",
    "        System.Conxole.Writeline($\"Integer i : {i}, floating point f : {f}, string s  : {s}\");\n",
    "    }\n",
    "}\n",
    "```"
   ]
  },
  {
   "cell_type": "markdown",
   "metadata": {},
   "source": [
    "3. Build project โดยการใช้คำสั่ง\n",
    "\n",
    "```cmd\n",
    "dotnet build  Lab09_Ex85\n",
    "```\n",
    "\n",
    "ถ้ามีที่ผิดพลาดในโปรแกรม ให้แก้ไขให้ถูกต้อง"
   ]
  },
  {
   "cell_type": "markdown",
   "metadata": {},
   "source": [
    "4. บันทึกผลที่ได้จากการรันคำสั่งในข้อ 3"
   ]
  },
  {
   "cell_type": "markdown",
   "metadata": {},
   "source": [
    "Build succeeded in 1.1s"
   ]
  },
  {
   "cell_type": "markdown",
   "metadata": {},
   "source": [
    "5. Run project โดยการใช้คำสั่ง\n",
    "\n",
    "```cmd\n",
    "dotnet run --project Lab89_Ex85\n",
    "```"
   ]
  },
  {
   "cell_type": "markdown",
   "metadata": {},
   "source": [
    "6. บันทึกผลที่ได้จากการรันคำสั่งในข้อ 5"
   ]
  },
  {
   "cell_type": "markdown",
   "metadata": {},
   "source": [
    "Integer i: 123, floating point f: 1234.56, string s: Hello World!"
   ]
  },
  {
   "cell_type": "markdown",
   "metadata": {},
   "source": [
    "7. อธิบายสิ่งที่พบในการทดลอง"
   ]
  },
  {
   "cell_type": "markdown",
   "metadata": {},
   "source": [
    "ผลลัพธ์ดังข้อ6 โดยแก้ไขโค้ดที่ผิดพลาด"
   ]
  },
  {
   "cell_type": "markdown",
   "metadata": {},
   "source": [
    "## คำถาม"
   ]
  },
  {
   "cell_type": "markdown",
   "metadata": {},
   "source": [
    "1. Static Method คืออะไร\n"
   ]
  },
  {
   "cell_type": "markdown",
   "metadata": {},
   "source": [
    "Static Method คือ เมธอด (Method) ที่เป็นสมาชิกของคลาส (Class) แต่ไม่ได้ผูกอยู่กับอ็อบเจ็กต์ใดๆ ของคลาสนั้นๆ ทำให้สามารถเรียกใช้ได้โดยตรงผ่านชื่อคลาส โดยไม่ต้องสร้างอ็อบเจ็กต์ก่อน"
   ]
  },
  {
   "cell_type": "markdown",
   "metadata": {},
   "source": [
    "2. ประกาศ static method ในภาษา C# อย่างไร\n"
   ]
  },
  {
   "cell_type": "markdown",
   "metadata": {},
   "source": [
    "โดยใช้ keyword static นำหน้าชนิดข้อมูลที่ส่งกลับของเมธอด ช่วยให้สามารถเรียกใช้เมธอดได้โดยตรงผ่านชื่อคลาส โดยไม่ต้องสร้างอ็อบเจ็กต์ก่อน"
   ]
  },
  {
   "cell_type": "markdown",
   "metadata": {},
   "source": [
    "3. เรียกใช้ static method อย่างไร\n"
   ]
  },
  {
   "cell_type": "markdown",
   "metadata": {},
   "source": [
    "วิธีการเรียกใช้\n",
    "\n",
    "ระบุชื่อคลาสที่ต้องการเรียกใช้ static method\n",
    "\n",
    "ตามด้วยเครื่องหมายจุด (.)\n",
    "\n",
    "ตามด้วยชื่อ static method ที่ต้องการเรียกใช้\n",
    "\n",
    "ใส่พารามิเตอร์ (ถ้ามี) ภายในวงเล็บ"
   ]
  },
  {
   "cell_type": "markdown",
   "metadata": {},
   "source": [
    "4. static method สามารถเข้าถึง instance members (fields, methods) ได้หรือไม่\n"
   ]
  },
  {
   "cell_type": "markdown",
   "metadata": {},
   "source": [
    "Static method ไม่สามารถเข้าถึง instance members ได้โดยตรง\n",
    "หากต้องการเข้าถึง instance members จาก static method ต้องสร้างอ็อบเจ็กต์ก่อน"
   ]
  },
  {
   "cell_type": "markdown",
   "metadata": {},
   "source": [
    "5. static method เหมาะกับการใช้งานแบบไหน\n"
   ]
  },
  {
   "cell_type": "markdown",
   "metadata": {},
   "source": [
    "Static method ในภาษา C# เหมาะกับการใช้งานในสถานการณ์ที่ต้องการทำงานกับข้อมูลหรือการทำงานที่เกี่ยวข้องกับคลาสโดยรวม ไม่ได้ขึ้นอยู่กับอ็อบเจ็กต์ใดๆ ของคลาส"
   ]
  },
  {
   "cell_type": "markdown",
   "metadata": {},
   "source": [
    "6. ข้อดีของการใช้ static method คืออะไรบ้าง\n"
   ]
  },
  {
   "cell_type": "markdown",
   "metadata": {},
   "source": [
    "1. การเข้าถึงที่รวดเร็วและง่ายดาย\n",
    "เนื่องจาก static method เป็นของคลาสโดยตรง จึงสามารถเรียกใช้ได้ทันทีผ่านชื่อคลาส โดยไม่ต้องสร้างอ็อบเจ็กต์ก่อน ทำให้โค้ดสั้นกระชับและอ่านง่าย\n",
    "2. ประสิทธิภาพที่ดี\n",
    "การเรียกใช้ static method มีประสิทธิภาพสูงกว่าการเรียกใช้ instance method เนื่องจากไม่ต้องมีการสร้างอ็อบเจ็กต์ก่อน ทำให้โปรแกรมทำงานได้เร็วขึ้น\n",
    "3. การจัดการข้อมูลส่วนกลาง\n",
    "Static method เหมาะสำหรับการทำงานกับข้อมูลที่ใช้ร่วมกันในคลาส หรือข้อมูลที่ไม่ขึ้นอยู่กับอ็อบเจ็กต์ใดๆ ช่วยให้การจัดการข้อมูลส่วนกลางเป็นไปอย่างมีประสิทธิภาพ"
   ]
  },
  {
   "cell_type": "markdown",
   "metadata": {},
   "source": [
    "7. ข้อเสียของการใช้ static method คืออะไรบ้าง\n"
   ]
  },
  {
   "cell_type": "markdown",
   "metadata": {},
   "source": [
    "1. ไม่สามารถเข้าถึง instance members ได้โดยตรง\n",
    "static method ไม่สามารถเข้าถึง instance fields หรือ instance methods ของคลาสได้โดยตรง เนื่องจาก static method ไม่ได้ผูกอยู่กับอ็อบเจ็กต์ใดๆ ของคลาส ทำให้ไม่สามารถเข้าถึงข้อมูลหรือการทำงานเฉพาะของแต่ละอ็อบเจ็กต์ได้\n",
    "2. ข้อจำกัดในการใช้งาน\n",
    "static method เหมาะสำหรับการทำงานกับข้อมูลหรือการทำงานที่เกี่ยวข้องกับคลาสโดยรวมเท่านั้น ไม่เหมาะสำหรับการทำงานกับข้อมูลหรือการทำงานที่แตกต่างกันไปในแต่ละอ็อบเจ็กต์\n",
    "3. อาจทำให้เกิดความซับซ้อน\n",
    "การใช้ static method มากเกินไป อาจทำให้โค้ดมีความซับซ้อนและยากต่อการบำรุงรักษา โดยเฉพาะอย่างยิ่งเมื่อมีการเปลี่ยนแปลงข้อมูลส่วนกลางที่ static method เข้าถึง"
   ]
  },
  {
   "cell_type": "markdown",
   "metadata": {},
   "source": [
    "8. จงยกตัวอย่าง static method ที่ใช้บ่อยใน Library มาตรฐานของภาษา C# พร้อมทั้งยกตัวอย่างการใช้งาน"
   ]
  },
  {
   "cell_type": "markdown",
   "metadata": {},
   "source": [
    "1. Math.Abs()\n",
    "\n",
    "หน้าที่: ส่งกลับค่าสัมบูรณ์ของตัวเลข (ค่าที่ไม่ติดลบ)"
   ]
  }
 ],
 "metadata": {
  "kernelspec": {
   "display_name": ".NET (C#)",
   "language": "C#",
   "name": ".net-csharp"
  },
  "polyglot_notebook": {
   "kernelInfo": {
    "defaultKernelName": "csharp",
    "items": [
     {
      "aliases": [],
      "languageName": "csharp",
      "name": "csharp"
     }
    ]
   }
  }
 },
 "nbformat": 4,
 "nbformat_minor": 2
}
